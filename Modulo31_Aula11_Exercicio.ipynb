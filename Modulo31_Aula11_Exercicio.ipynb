{
  "nbformat": 4,
  "nbformat_minor": 0,
  "metadata": {
    "colab": {
      "provenance": [],
      "toc_visible": true
    },
    "kernelspec": {
      "name": "python3",
      "display_name": "Python 3"
    }
  },
  "cells": [
    {
      "cell_type": "markdown",
      "metadata": {
        "id": "KJqp9AANOCtf"
      },
      "source": [
        "<img src=\"https://raw.githubusercontent.com/andre-marcos-perez/ebac-course-utils/main/media/logo/newebac_logo_black_half.png\" alt=\"ebac-logo\">\n",
        "\n",
        "---\n",
        "\n",
        "# **Módulo** | SQL: Selecionando & Ordenando\n",
        "Caderno de **Exercícios**<br>\n",
        "Professor [Mariane Neiva](https://www.linkedin.com/in/mariane-neiva/)\n",
        "\n",
        "---"
      ]
    },
    {
      "cell_type": "markdown",
      "metadata": {
        "id": "d9jDtUbDOE1-"
      },
      "source": [
        "# **Tópicos**\n",
        "\n",
        "<ol type=\"1\">\n",
        "  <li>Restrição de colunas;</li>\n",
        "  <li>Selecionando dados;</li>\n",
        "  <li>Ordenando e limitando os resultados;</li>\n",
        "</ol>"
      ]
    },
    {
      "cell_type": "markdown",
      "metadata": {
        "id": "SmoHgt-lwkpD"
      },
      "source": [
        "---"
      ]
    },
    {
      "cell_type": "markdown",
      "metadata": {
        "id": "DIlQOznoTPQF"
      },
      "source": [
        "# **Instruções**\n",
        "\n",
        "Nessa **atividades**, você deve:\n",
        "\n",
        " 1. Executar a consulta SQL fornecida;\n",
        " 2. Exportar os resultados em um arquivo csv para sua máquina;\n",
        " 3. Renomear o arquivo como **query\\<numero-da-query\\>.csv**;\n",
        " 4. Enviar para a avaliação do tutor na plataforma da EBAC.\n",
        "\n",
        "> **Atenção**: Substitua o **\\<numero-da-query>** numero da consulta, exemplo: **query1.csv**.\n",
        "\n",
        "**Importante**: Para consultar mais detalhes da AWS Athena [clique aqui](https://docs.aws.amazon.com/athena/latest/ug/what-is.html)"
      ]
    },
    {
      "cell_type": "markdown",
      "metadata": {
        "id": "vvlBORqbTPQp"
      },
      "source": [
        "---"
      ]
    },
    {
      "cell_type": "markdown",
      "metadata": {
        "id": "k4HJwfbQcEQw"
      },
      "source": [
        "# Atividades"
      ]
    },
    {
      "cell_type": "markdown",
      "metadata": {
        "id": "0cbohKQegVk7"
      },
      "source": [
        "# **1. Restrição de colunas**"
      ]
    },
    {
      "cell_type": "markdown",
      "metadata": {
        "id": "0Airo3E0h5Ik"
      },
      "source": [
        "## **1.1. Prática 1**\n",
        "\n",
        "No módulo 3, vimos um pouco sobre chave primária, chave estrangeira e outras restrições. **Nessa prática 1, não há necessidade de entrega**. No entanto, recomendo que você pratique no site: https://sqliteonline.com/ a seguinte sequência de queries:\n",
        "\n",
        "* Criando a tabela de clientes:\n",
        "\n",
        "```sql\n",
        "CREATE TABLE clientes (\n",
        "\tid_cliente INT PRIMARY KEY);\n",
        "```\n",
        "\n",
        "* Inserindo dados nas tabelas de clientes:\n",
        "\n",
        "```sql\n",
        "INSERT INTO clientes VALUES(1);\n",
        "INSERT INTO clientes VALUES(2);\n",
        "INSERT INTO clientes VALUES(3);\n",
        "INSERT INTO clientes VALUES(4);\n",
        "INSERT INTO clientes VALUES(5);\n",
        "```\n",
        "\n",
        "* Visualizando dados dos clientes:\n",
        "```sql\n",
        "SELECT * FROM clientes;\n",
        "```\n",
        "\n",
        "* Criando a tabela de transações:\n",
        "\n",
        "```sql\n",
        "CREATE TABLE transacoes (\n",
        "  id_cliente INT,   \n",
        "  id_transacao INT PRIMARY KEY,\n",
        "  data_compra DATE UNIQUE,\n",
        "  valor FLOAT NOT NULL,\n",
        "  id_loja varchar(25),\n",
        "  FOREIGN KEY (id_cliente) REFERENCES clientes(id_cliente)\n",
        "  CHECK (valor > 0)\n",
        ");\n",
        "```\n",
        "\n",
        "* Inserindo dados na tabela transacoes:\n",
        "\n",
        "```sql\n",
        "INSERT INTO transacoes VALUES (1,768805383,2021-06-10,50.74,'magalu');\n",
        "INSERT INTO transacoes VALUES (2,768805399,2021-06-13,30.90,'giraffas');\n",
        "INSERT INTO transacoes VALUES (3,818770008,2021-06-05,110.00,'postoshell');\n",
        "INSERT INTO transacoes VALUES (1,76856563,2021-07-10,2000.90,'magalu');\n",
        "INSERT INTO transacoes VALUES (1,767573759,2021-06-20,15.70,'subway');\n",
        "INSERT INTO transacoes VALUES (3,818575758,2021-06-25,2.99,'seveneleven');\n",
        "INSERT INTO transacoes VALUES (4,764545534,2021-07-11,50.74,'extra');\n",
        "INSERT INTO transacoes VALUES (5,76766789,2021-08-02,10.00,'subway');\n",
        "INSERT INTO transacoes VALUES (3,8154567758,2021-08-15,1100.00,'shopee');\n",
        "```\n",
        "\n",
        "* Visualizando os dados da tabela transacoes:\n",
        "\n",
        "```sql\n",
        "SELECT * FROM transacoes\n",
        "```\n",
        "\n",
        "* Verificando o uso do check:\n",
        "\n",
        "```sql\n",
        "INSERT INTO transacoes VALUES (5,764545534,2021-07-12,-50.74,'extra');\n",
        "```\n"
      ]
    },
    {
      "cell_type": "markdown",
      "source": [
        "**FAZENDO O PROCESSO NO SQL**"
      ],
      "metadata": {
        "id": "GRGhPaKt-2vA"
      }
    },
    {
      "cell_type": "markdown",
      "source": [
        "    CREATE TABLE clientes (\n",
        "      id_cliente INT PRIMARY KEY);"
      ],
      "metadata": {
        "id": "HSpOmc5f-lKo"
      }
    },
    {
      "cell_type": "markdown",
      "source": [
        "    INSERT INTO clientes VALUES (1);\n",
        "    INSERT INTO clientes VALUES (2);\n",
        "    INSERT INTO clientes VALUES (3);\n",
        "    INSERT INTO clientes VALUES (4);\n",
        "    INSERT INTO clientes VALUES (5);"
      ],
      "metadata": {
        "id": "0eNDpp3o-r-Y"
      }
    },
    {
      "cell_type": "markdown",
      "source": [
        "    SELECT * FROM clientes"
      ],
      "metadata": {
        "id": "2L4X31Ic-r-Y"
      }
    },
    {
      "cell_type": "markdown",
      "source": [
        "    CREATE TABLE transacoes (  \n",
        "      id_cliente INT,\n",
        "      id_transacao INT PRIMARY KEY,\n",
        "      data_compra DATE UNIQUE,\n",
        "      valor FLOAT NOT NULL,\n",
        "      id_loja varchar(25),\n",
        "      FOREIGN KEY (id_cliente) REFERENCES cliente(id_cliente)\n",
        "      CHECK (valor > 0)\n",
        "    );  "
      ],
      "metadata": {
        "id": "bJrSPVz4-r-Z"
      }
    },
    {
      "cell_type": "markdown",
      "source": [
        "    INSERT INTO transacoes VALUES (1,768805383,2021-06-10,50.74,'magalu');\n",
        "    INSERT INTO transacoes VALUES (2,768805399,2021-06-13,30.90,'giraffas');\n",
        "    INSERT INTO transacoes VALUES (3,818770008,2021-06-05,110.00,'postoshell');\n",
        "    INSERT INTO transacoes VALUES (1,76856563,2021-07-10,2000.90,'magalu');\n",
        "    INSERT INTO transacoes VALUES (1,767573759,2021-06-20,15.70,'subway');\n",
        "    INSERT INTO transacoes VALUES (3,818575758,2021-06-25,2.99,'seveneleven');\n",
        "    INSERT INTO transacoes VALUES (4,764545534,2021-07-11,50.74,'extra');\n",
        "    INSERT INTO transacoes VALUES (5,76766789,2021-08-02,10.00,'subway');\n",
        "    INSERT INTO transacoes VALUES (3,8154567758,2021-08-15,1100.00,'shopee');"
      ],
      "metadata": {
        "id": "yPXn_K1y-r-Z"
      }
    },
    {
      "cell_type": "markdown",
      "source": [
        "Para aparecer a data completa deveríamos ter usado aspas simples na data, conforme abaixo:\n",
        "\n",
        "    INSERT INTO transacoes VALUES (1,768805383,'2021-06-10',50.74,'magalu');\n",
        "    INSERT INTO transacoes VALUES (2,768805399,'2021-06-13',30.90,'giraffas');\n",
        "    INSERT INTO transacoes VALUES (3,818770008,'2021-06-05',110.00,'postoshell');\n",
        "    INSERT INTO transacoes VALUES (1,76856563,'2021-07-10',2000.90,'magalu');\n",
        "    INSERT INTO transacoes VALUES (1,767573759,'2021-06-20',15.70,'subway');\n",
        "    INSERT INTO transacoes VALUES (3,818575758,'2021-06-25',2.99,'seveneleven');\n",
        "    INSERT INTO transacoes VALUES (4,764545534,'2021-07-11',50.74,'extra');\n",
        "    INSERT INTO transacoes VALUES (5,76766789,'2021-08-02',10.00,'subway');\n",
        "    INSERT INTO transacoes VALUES (3,8154567758,'2021-08-15',1100.00,'shopee');\n",
        "\n",
        "Como não o fizemos, devemos alterar conforme abaixo para cada um:\n",
        "\n",
        "    UPDATE transacoes\n",
        "    SET data_compra = '2021-06-10'\n",
        "    WHERE data_compra = 2021-06-10;"
      ],
      "metadata": {
        "id": "fIvr0maK-r-Z"
      }
    },
    {
      "cell_type": "markdown",
      "source": [
        "    SELECT * FROM transacoes"
      ],
      "metadata": {
        "id": "vTebOa3H-r-Z"
      }
    },
    {
      "cell_type": "markdown",
      "metadata": {
        "id": "qDxe2l4cMcVa"
      },
      "source": [
        "# **2. Selecionando dados**\n",
        "\n",
        "Nessa segunda prática, utilizaremos o AWS Athena.\n",
        "\n",
        "O arquivo com os dados a ser utilizado está disponível no material de aula com **transacoes.csv**.\n",
        "\n",
        "Para criar uma tabela, siga os passos:\n",
        "\n",
        "1.   No S3-AWS, crie uma nova pasta (bucket) chamada 'bucket-transacoes'\n",
        "2.   Carregue o arquivo **transacoes.csv** dentro dessa pasta.\n",
        "3.   Volte para o Athena e execute a seguinte query:\n",
        "\n",
        "```sql\n",
        "CREATE EXTERNAL TABLE transacoes(\n",
        "  id_cliente BIGINT,\n",
        "  id_transacao BIGINT,\n",
        "  valor FLOAT,\n",
        "  id_loja STRING)\n",
        "ROW FORMAT SERDE 'org.apache.hadoop.hive.serde2.OpenCSVSerde'\n",
        "WITH SERDEPROPERTIES ('separatorChar' = ',', 'quoteChar' = '\"', 'escapeChar' = '\\\\')\n",
        "STORED AS TEXTFILE\n",
        "LOCATION 's3://bucket-transacoes/'\n",
        "```\n",
        "\n",
        "##2.1 Query 1\n",
        "\n",
        "Visualize os dados e salve os resultados para enviar como exercício:\n",
        "\n",
        "```sql\n",
        "SELECT * from transacoes\n",
        "```\n",
        "\n",
        "> **Importante**: entregue os resultados da query com o nome *query1.csv*"
      ]
    },
    {
      "cell_type": "markdown",
      "metadata": {
        "id": "N-lRqaLXiL9i"
      },
      "source": [
        "##2.2 Query 2\n",
        "\n",
        "Agora vamos praticar o uso do alias (apelido) com o comando **AS**. Troque o nome da coluna *id_loja* na visualização por *nome_loja* e salve o resultado como **query2.csv**\n",
        "\n",
        "```sql\n",
        "SELECT id_cliente , valor, id_loja AS nome_loja FROM transacoes;\n",
        "```\n",
        "\n",
        "> **Importante**: entregue os resultados da query com o nome *query2.csv*"
      ]
    },
    {
      "cell_type": "markdown",
      "metadata": {
        "id": "R3WlvgbrRHfN"
      },
      "source": [
        "##2.3 Query 3\n",
        "\n",
        "Para ver as lojas cadastradas na tabela transacoes sem que haja repetições utilize o comando SELECT DISTINCT. Para tal, execute a query abaixo, salve o resultado como **query3.csv**\n",
        "\n",
        "```sql\n",
        "SELECT DISTINCT  id_loja AS nome_loja FROM transacoes;\n",
        "```\n",
        "\n",
        "> **Importante**: entregue os resultados da query com o nome *query3.csv*"
      ]
    },
    {
      "cell_type": "markdown",
      "metadata": {
        "id": "TAEj0KkuRxdw"
      },
      "source": [
        "# 3. Ordenando e limitando dados\n",
        "\n",
        "## 3.1 Query 4\n",
        "\n",
        "Podemos ordenar e limitar a visualização da tabela como o comando ORDER BY e LIMIT. Execute o comando abaixo e salve os resultados no arquivo **query4.csv**\n",
        "\n",
        "```sql\n",
        "SELECT id_cliente, valor FROM transacoes ORDER BY valor DESC LIMIT 2;\n",
        "```\n",
        "\n",
        "> **Importante**: entregue os resultados da query com o nome *query4.csv*"
      ]
    },
    {
      "cell_type": "markdown",
      "source": [
        "create TABLE clientes (\n",
        "  id_cliente INT PRIMARY KEY);"
      ],
      "metadata": {
        "id": "ecway5Kw_s94"
      }
    },
    {
      "cell_type": "markdown",
      "source": [
        "**USANDO AWS** (não relaciona tabelas)\n",
        "\n",
        "Criei um novo bucket com nome bucket-cinthia-transacoes e adicionei a planilha transacoes.csv lá\n",
        "    \n",
        "    CREATE EXTERNAL TABLE transacoes(\n",
        "        id_cliente BIGINT,\n",
        "        id_transacao BIGINT,\n",
        "        valor FLOAT,\n",
        "        id_loja STRING)\n",
        "    ROW FORMAT SERDE 'org.apache.hadoop.hive.serde2.OpenCSVSerde'    \n",
        "    WITH SERDEPROPERTIES ('separatorChar' = ',', 'quoteChar' = '\"', 'escapeChar' = '\\\\')\n",
        "    STORED AS TEXTFILE\n",
        "    LOCATION 's3://bucket-cinthia-transacoes/'"
      ],
      "metadata": {
        "id": "dl-FcMtBfa7S"
      }
    },
    {
      "cell_type": "markdown",
      "source": [
        "    SELECT * FROM transacoes\n",
        "\n",
        "query1    "
      ],
      "metadata": {
        "id": "GJjz0yW21X6i"
      }
    },
    {
      "cell_type": "markdown",
      "source": [
        "    SELECT id_cliente AS identificador_cliente, valor AS valor_compra, id_loja AS nome_loja FROM transacoes;\n",
        "\n",
        "query2    "
      ],
      "metadata": {
        "id": "IKsWuLJ618Pt"
      }
    },
    {
      "cell_type": "markdown",
      "source": [
        "    SELECT id_cliente, valor FROM transacoes\n",
        "\n",
        "query3    "
      ],
      "metadata": {
        "id": "SHioa-4z2nfE"
      }
    },
    {
      "cell_type": "markdown",
      "source": [
        "    SELECT DISTINCT id_loja AS nome_loja FROM transacoes;\n",
        "\n",
        "query4    "
      ],
      "metadata": {
        "id": "tcBXRkX03bz8"
      }
    },
    {
      "cell_type": "markdown",
      "source": [
        "**CONTINUANDO NO AWS**\n",
        "\n",
        "    SELECT id_cliente, valor FROM transacoes WHERE id_cliente=1;\n",
        "\n",
        "query5    "
      ],
      "metadata": {
        "id": "L6aNTQcs6tFh"
      }
    },
    {
      "cell_type": "markdown",
      "source": [
        "    SELECT id_cliente, valor FROM transacoes WHERE id_cliente=1 ORDER BY valor DESC;\n",
        "\n",
        "query6    "
      ],
      "metadata": {
        "id": "flpGqwLr7eyi"
      }
    },
    {
      "cell_type": "markdown",
      "source": [
        "    SELECT id_cliente, valor FROM transacoes WHERE id_cliente=1 ORDER BY valor ASC;\n",
        "\n",
        "query7    "
      ],
      "metadata": {
        "id": "uxz6OZMB7qWg"
      }
    },
    {
      "cell_type": "markdown",
      "source": [
        "    SELECT id_transacao, valor FROM transacoes WHERE id_cliente=1 ORDER BY valor ASC;\n",
        "\n",
        "query8    "
      ],
      "metadata": {
        "id": "KQcP6tcl73Ni"
      }
    },
    {
      "cell_type": "markdown",
      "source": [
        "    SELECT id_transacao, valor FROM transacoes WHERE id_cliente=1 ORDER BY valor ASC LIMIT 1;\n",
        "\n",
        "query9    "
      ],
      "metadata": {
        "id": "UCMSKyhf8FpN"
      }
    },
    {
      "cell_type": "markdown",
      "source": [
        "    SELECT id_transacao FROM transacoes WHERE id_cliente=1 ORDER BY valor ASC LIMIT 1;\n",
        "\n",
        "query10"
      ],
      "metadata": {
        "id": "K9MvQJUF8eUi"
      }
    }
  ]
}